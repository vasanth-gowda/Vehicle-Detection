{
 "cells": [
  {
   "cell_type": "code",
   "execution_count": 71,
   "id": "9ddc7062",
   "metadata": {},
   "outputs": [],
   "source": [
    "import cv2\n",
    "import numpy as np\n"
   ]
  },
  {
   "cell_type": "code",
   "execution_count": 114,
   "id": "75143fd5",
   "metadata": {},
   "outputs": [],
   "source": [
    "count_line=320\n",
    "offset= 6\n",
    "min_width = 50\n",
    "min_height= 5\n",
    "detect = []\n",
    "counter =0"
   ]
  },
  {
   "cell_type": "code",
   "execution_count": 115,
   "id": "e87dd588",
   "metadata": {
    "scrolled": true
   },
   "outputs": [],
   "source": [
    "cap= cv2.VideoCapture('video3.mp4')\n",
    "\n",
    "\n",
    "\n",
    "algo=cv2.bgsegm.createBackgroundSubtractorMOG()\n",
    "\n",
    "while True:\n",
    "    ret,frame=cap.read()\n",
    "    gray=cv2.cvtColor(frame,cv2.COLOR_BGR2GRAY)\n",
    "    blur = cv2.GaussianBlur(gray,(3,3),5)\n",
    "    \n",
    "    #applying on all frames\n",
    "    img_sub = algo.apply(blur)\n",
    "    dilat = cv2.dilate(img_sub,np.ones((5,5)))\n",
    "    kernel = cv2.getStructuringElement(cv2.MORPH_ELLIPSE,(5,5))\n",
    "    dilatada= cv2.morphologyEx(dilat,cv2.MORPH_CLOSE,kernel)\n",
    "    dilatada= cv2.morphologyEx(dilatada,cv2.MORPH_CLOSE,kernel)\n",
    "    \n",
    "    contour,h= cv2.findContours(dilatada, cv2.RETR_TREE, cv2.CHAIN_APPROX_SIMPLE)\n",
    "    \n",
    "   \n",
    "    #############RECTANGLES##############\n",
    "    #####################################\n",
    "    \n",
    "    for(i,c) in enumerate(contour):\n",
    "        (x,y,w,h)=cv2.boundingRect(c)\n",
    "        validate_contour = (w>= min_width) and (h>=min_height)\n",
    "        if not validate_contour:\n",
    "            continue\n",
    "        cv2.rectangle(frame,(x,y),(x+w,y+h),(0,255,25),2)\n",
    "    \n",
    "    \n",
    "    #cv2.imshow('Detect',dilatada)\n",
    "    cv2.imshow('Original Video',frame)\n",
    "    if cv2.waitKey(1) & 0xFF == ord('q'):\n",
    "        break\n",
    "        \n",
    "cv2.destroyAllWindows()\n",
    "cap.release()"
   ]
  },
  {
   "cell_type": "code",
   "execution_count": 75,
   "id": "6d2525f0",
   "metadata": {},
   "outputs": [],
   "source": [
    " \n"
   ]
  },
  {
   "cell_type": "code",
   "execution_count": null,
   "id": "d30dd2e7",
   "metadata": {},
   "outputs": [],
   "source": []
  }
 ],
 "metadata": {
  "kernelspec": {
   "display_name": "Python 3 (ipykernel)",
   "language": "python",
   "name": "python3"
  },
  "language_info": {
   "codemirror_mode": {
    "name": "ipython",
    "version": 3
   },
   "file_extension": ".py",
   "mimetype": "text/x-python",
   "name": "python",
   "nbconvert_exporter": "python",
   "pygments_lexer": "ipython3",
   "version": "3.9.7"
  }
 },
 "nbformat": 4,
 "nbformat_minor": 5
}
